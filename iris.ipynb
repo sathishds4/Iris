{
 "cells": [
  {
   "cell_type": "code",
   "execution_count": 15,
   "id": "324d9480-427d-464f-945b-c1ad54ec9c0e",
   "metadata": {},
   "outputs": [],
   "source": [
    "import pandas as pd"
   ]
  },
  {
   "cell_type": "code",
   "execution_count": 17,
   "id": "324079b7-a218-4ad0-93f9-23777d2df04e",
   "metadata": {},
   "outputs": [],
   "source": [
    "import numpy as np"
   ]
  },
  {
   "cell_type": "code",
   "execution_count": 43,
   "id": "20196005-cad8-4797-9e67-70f5416f0965",
   "metadata": {},
   "outputs": [],
   "source": [
    "import seaborn as sns"
   ]
  },
  {
   "cell_type": "code",
   "execution_count": 65,
   "id": "9486e720-32f5-4220-b33a-915ae910a0c0",
   "metadata": {},
   "outputs": [],
   "source": [
    "df=pd.read_csv(\"iris.csv\")"
   ]
  },
  {
   "cell_type": "code",
   "execution_count": 41,
   "id": "fb6c1503-8898-414d-a97f-9a0faf77f8bd",
   "metadata": {},
   "outputs": [
    {
     "data": {
      "text/html": [
       "<div>\n",
       "<style scoped>\n",
       "    .dataframe tbody tr th:only-of-type {\n",
       "        vertical-align: middle;\n",
       "    }\n",
       "\n",
       "    .dataframe tbody tr th {\n",
       "        vertical-align: top;\n",
       "    }\n",
       "\n",
       "    .dataframe thead th {\n",
       "        text-align: right;\n",
       "    }\n",
       "</style>\n",
       "<table border=\"1\" class=\"dataframe\">\n",
       "  <thead>\n",
       "    <tr style=\"text-align: right;\">\n",
       "      <th></th>\n",
       "      <th>sepal_length</th>\n",
       "      <th>sepal_width</th>\n",
       "      <th>petal_length</th>\n",
       "      <th>petal_width</th>\n",
       "      <th>species</th>\n",
       "    </tr>\n",
       "  </thead>\n",
       "  <tbody>\n",
       "    <tr>\n",
       "      <th>0</th>\n",
       "      <td>5.1</td>\n",
       "      <td>3.5</td>\n",
       "      <td>1.4</td>\n",
       "      <td>0.2</td>\n",
       "      <td>Iris-setosa</td>\n",
       "    </tr>\n",
       "    <tr>\n",
       "      <th>1</th>\n",
       "      <td>4.9</td>\n",
       "      <td>3.0</td>\n",
       "      <td>1.4</td>\n",
       "      <td>0.2</td>\n",
       "      <td>Iris-setosa</td>\n",
       "    </tr>\n",
       "    <tr>\n",
       "      <th>2</th>\n",
       "      <td>4.7</td>\n",
       "      <td>3.2</td>\n",
       "      <td>1.3</td>\n",
       "      <td>0.2</td>\n",
       "      <td>Iris-setosa</td>\n",
       "    </tr>\n",
       "    <tr>\n",
       "      <th>3</th>\n",
       "      <td>4.6</td>\n",
       "      <td>3.1</td>\n",
       "      <td>1.5</td>\n",
       "      <td>0.2</td>\n",
       "      <td>Iris-setosa</td>\n",
       "    </tr>\n",
       "    <tr>\n",
       "      <th>4</th>\n",
       "      <td>5.0</td>\n",
       "      <td>3.6</td>\n",
       "      <td>1.4</td>\n",
       "      <td>0.2</td>\n",
       "      <td>Iris-setosa</td>\n",
       "    </tr>\n",
       "    <tr>\n",
       "      <th>...</th>\n",
       "      <td>...</td>\n",
       "      <td>...</td>\n",
       "      <td>...</td>\n",
       "      <td>...</td>\n",
       "      <td>...</td>\n",
       "    </tr>\n",
       "    <tr>\n",
       "      <th>145</th>\n",
       "      <td>6.7</td>\n",
       "      <td>3.0</td>\n",
       "      <td>5.2</td>\n",
       "      <td>2.3</td>\n",
       "      <td>Iris-virginica</td>\n",
       "    </tr>\n",
       "    <tr>\n",
       "      <th>146</th>\n",
       "      <td>6.3</td>\n",
       "      <td>2.5</td>\n",
       "      <td>5.0</td>\n",
       "      <td>1.9</td>\n",
       "      <td>Iris-virginica</td>\n",
       "    </tr>\n",
       "    <tr>\n",
       "      <th>147</th>\n",
       "      <td>6.5</td>\n",
       "      <td>3.0</td>\n",
       "      <td>5.2</td>\n",
       "      <td>2.0</td>\n",
       "      <td>Iris-virginica</td>\n",
       "    </tr>\n",
       "    <tr>\n",
       "      <th>148</th>\n",
       "      <td>6.2</td>\n",
       "      <td>3.4</td>\n",
       "      <td>5.4</td>\n",
       "      <td>2.3</td>\n",
       "      <td>Iris-virginica</td>\n",
       "    </tr>\n",
       "    <tr>\n",
       "      <th>149</th>\n",
       "      <td>5.9</td>\n",
       "      <td>3.0</td>\n",
       "      <td>5.1</td>\n",
       "      <td>1.8</td>\n",
       "      <td>Iris-virginica</td>\n",
       "    </tr>\n",
       "  </tbody>\n",
       "</table>\n",
       "<p>150 rows × 5 columns</p>\n",
       "</div>"
      ],
      "text/plain": [
       "     sepal_length  sepal_width  petal_length  petal_width         species\n",
       "0             5.1          3.5           1.4          0.2     Iris-setosa\n",
       "1             4.9          3.0           1.4          0.2     Iris-setosa\n",
       "2             4.7          3.2           1.3          0.2     Iris-setosa\n",
       "3             4.6          3.1           1.5          0.2     Iris-setosa\n",
       "4             5.0          3.6           1.4          0.2     Iris-setosa\n",
       "..            ...          ...           ...          ...             ...\n",
       "145           6.7          3.0           5.2          2.3  Iris-virginica\n",
       "146           6.3          2.5           5.0          1.9  Iris-virginica\n",
       "147           6.5          3.0           5.2          2.0  Iris-virginica\n",
       "148           6.2          3.4           5.4          2.3  Iris-virginica\n",
       "149           5.9          3.0           5.1          1.8  Iris-virginica\n",
       "\n",
       "[150 rows x 5 columns]"
      ]
     },
     "execution_count": 41,
     "metadata": {},
     "output_type": "execute_result"
    }
   ],
   "source": [
    "df"
   ]
  },
  {
   "cell_type": "code",
   "execution_count": 67,
   "id": "9316f9f2-3b51-498e-b69d-0115e1864513",
   "metadata": {},
   "outputs": [
    {
     "name": "stdout",
     "output_type": "stream",
     "text": [
      "<class 'pandas.core.frame.DataFrame'>\n",
      "RangeIndex: 150 entries, 0 to 149\n",
      "Data columns (total 5 columns):\n",
      " #   Column        Non-Null Count  Dtype  \n",
      "---  ------        --------------  -----  \n",
      " 0   sepal_length  150 non-null    float64\n",
      " 1   sepal_width   150 non-null    float64\n",
      " 2   petal_length  150 non-null    float64\n",
      " 3   petal_width   150 non-null    float64\n",
      " 4   species       150 non-null    object \n",
      "dtypes: float64(4), object(1)\n",
      "memory usage: 6.0+ KB\n"
     ]
    }
   ],
   "source": [
    "df.info()"
   ]
  },
  {
   "cell_type": "code",
   "execution_count": 73,
   "id": "ffa75b6a-3ceb-4e09-b09d-9fcdf4a6151a",
   "metadata": {},
   "outputs": [
    {
     "data": {
      "text/plain": [
       "(150, 5)"
      ]
     },
     "execution_count": 73,
     "metadata": {},
     "output_type": "execute_result"
    }
   ],
   "source": [
    "df.shape"
   ]
  },
  {
   "cell_type": "code",
   "execution_count": 75,
   "id": "261dadc0-572a-4af7-ac62-ca8288d5d491",
   "metadata": {},
   "outputs": [
    {
     "data": {
      "text/plain": [
       "array(['Iris-setosa', 'Iris-versicolor', 'Iris-virginica'], dtype=object)"
      ]
     },
     "execution_count": 75,
     "metadata": {},
     "output_type": "execute_result"
    }
   ],
   "source": [
    "df.species.unique()"
   ]
  },
  {
   "cell_type": "code",
   "execution_count": 77,
   "id": "530e65b1-a372-4f8c-9e3b-c2a25cce069f",
   "metadata": {},
   "outputs": [],
   "source": [
    "group = df.species.unique()"
   ]
  },
  {
   "cell_type": "code",
   "execution_count": 79,
   "id": "5f56f8a9-ce69-4b87-8ebc-998c19b1fcf7",
   "metadata": {},
   "outputs": [],
   "source": [
    "data = {}\n",
    "for i in group:\n",
    "    data[i]=df[\"sepal_length\"][df[\"species\"]==i]"
   ]
  },
  {
   "cell_type": "code",
   "execution_count": 81,
   "id": "3c4294e1-e8df-43f5-b471-2ff6283712b5",
   "metadata": {},
   "outputs": [
    {
     "data": {
      "text/plain": [
       "{'Iris-setosa': 0     5.1\n",
       " 1     4.9\n",
       " 2     4.7\n",
       " 3     4.6\n",
       " 4     5.0\n",
       " 5     5.4\n",
       " 6     4.6\n",
       " 7     5.0\n",
       " 8     4.4\n",
       " 9     4.9\n",
       " 10    5.4\n",
       " 11    4.8\n",
       " 12    4.8\n",
       " 13    4.3\n",
       " 14    5.8\n",
       " 15    5.7\n",
       " 16    5.4\n",
       " 17    5.1\n",
       " 18    5.7\n",
       " 19    5.1\n",
       " 20    5.4\n",
       " 21    5.1\n",
       " 22    4.6\n",
       " 23    5.1\n",
       " 24    4.8\n",
       " 25    5.0\n",
       " 26    5.0\n",
       " 27    5.2\n",
       " 28    5.2\n",
       " 29    4.7\n",
       " 30    4.8\n",
       " 31    5.4\n",
       " 32    5.2\n",
       " 33    5.5\n",
       " 34    4.9\n",
       " 35    5.0\n",
       " 36    5.5\n",
       " 37    4.9\n",
       " 38    4.4\n",
       " 39    5.1\n",
       " 40    5.0\n",
       " 41    4.5\n",
       " 42    4.4\n",
       " 43    5.0\n",
       " 44    5.1\n",
       " 45    4.8\n",
       " 46    5.1\n",
       " 47    4.6\n",
       " 48    5.3\n",
       " 49    5.0\n",
       " Name: sepal_length, dtype: float64,\n",
       " 'Iris-versicolor': 50    7.0\n",
       " 51    6.4\n",
       " 52    6.9\n",
       " 53    5.5\n",
       " 54    6.5\n",
       " 55    5.7\n",
       " 56    6.3\n",
       " 57    4.9\n",
       " 58    6.6\n",
       " 59    5.2\n",
       " 60    5.0\n",
       " 61    5.9\n",
       " 62    6.0\n",
       " 63    6.1\n",
       " 64    5.6\n",
       " 65    6.7\n",
       " 66    5.6\n",
       " 67    5.8\n",
       " 68    6.2\n",
       " 69    5.6\n",
       " 70    5.9\n",
       " 71    6.1\n",
       " 72    6.3\n",
       " 73    6.1\n",
       " 74    6.4\n",
       " 75    6.6\n",
       " 76    6.8\n",
       " 77    6.7\n",
       " 78    6.0\n",
       " 79    5.7\n",
       " 80    5.5\n",
       " 81    5.5\n",
       " 82    5.8\n",
       " 83    6.0\n",
       " 84    5.4\n",
       " 85    6.0\n",
       " 86    6.7\n",
       " 87    6.3\n",
       " 88    5.6\n",
       " 89    5.5\n",
       " 90    5.5\n",
       " 91    6.1\n",
       " 92    5.8\n",
       " 93    5.0\n",
       " 94    5.6\n",
       " 95    5.7\n",
       " 96    5.7\n",
       " 97    6.2\n",
       " 98    5.1\n",
       " 99    5.7\n",
       " Name: sepal_length, dtype: float64,\n",
       " 'Iris-virginica': 100    6.3\n",
       " 101    5.8\n",
       " 102    7.1\n",
       " 103    6.3\n",
       " 104    6.5\n",
       " 105    7.6\n",
       " 106    4.9\n",
       " 107    7.3\n",
       " 108    6.7\n",
       " 109    7.2\n",
       " 110    6.5\n",
       " 111    6.4\n",
       " 112    6.8\n",
       " 113    5.7\n",
       " 114    5.8\n",
       " 115    6.4\n",
       " 116    6.5\n",
       " 117    7.7\n",
       " 118    7.7\n",
       " 119    6.0\n",
       " 120    6.9\n",
       " 121    5.6\n",
       " 122    7.7\n",
       " 123    6.3\n",
       " 124    6.7\n",
       " 125    7.2\n",
       " 126    6.2\n",
       " 127    6.1\n",
       " 128    6.4\n",
       " 129    7.2\n",
       " 130    7.4\n",
       " 131    7.9\n",
       " 132    6.4\n",
       " 133    6.3\n",
       " 134    6.1\n",
       " 135    7.7\n",
       " 136    6.3\n",
       " 137    6.4\n",
       " 138    6.0\n",
       " 139    6.9\n",
       " 140    6.7\n",
       " 141    6.9\n",
       " 142    5.8\n",
       " 143    6.8\n",
       " 144    6.7\n",
       " 145    6.7\n",
       " 146    6.3\n",
       " 147    6.5\n",
       " 148    6.2\n",
       " 149    5.9\n",
       " Name: sepal_length, dtype: float64}"
      ]
     },
     "execution_count": 81,
     "metadata": {},
     "output_type": "execute_result"
    }
   ],
   "source": [
    "data"
   ]
  },
  {
   "cell_type": "code",
   "execution_count": 91,
   "id": "7b8ca26c-5d35-4944-8c29-43d8aee81fe4",
   "metadata": {},
   "outputs": [
    {
     "data": {
      "text/plain": [
       "0     5.1\n",
       "1     4.9\n",
       "2     4.7\n",
       "3     4.6\n",
       "4     5.0\n",
       "5     5.4\n",
       "6     4.6\n",
       "7     5.0\n",
       "8     4.4\n",
       "9     4.9\n",
       "10    5.4\n",
       "11    4.8\n",
       "12    4.8\n",
       "13    4.3\n",
       "14    5.8\n",
       "15    5.7\n",
       "16    5.4\n",
       "17    5.1\n",
       "18    5.7\n",
       "19    5.1\n",
       "20    5.4\n",
       "21    5.1\n",
       "22    4.6\n",
       "23    5.1\n",
       "24    4.8\n",
       "25    5.0\n",
       "26    5.0\n",
       "27    5.2\n",
       "28    5.2\n",
       "29    4.7\n",
       "30    4.8\n",
       "31    5.4\n",
       "32    5.2\n",
       "33    5.5\n",
       "34    4.9\n",
       "35    5.0\n",
       "36    5.5\n",
       "37    4.9\n",
       "38    4.4\n",
       "39    5.1\n",
       "40    5.0\n",
       "41    4.5\n",
       "42    4.4\n",
       "43    5.0\n",
       "44    5.1\n",
       "45    4.8\n",
       "46    5.1\n",
       "47    4.6\n",
       "48    5.3\n",
       "49    5.0\n",
       "Name: sepal_length, dtype: float64"
      ]
     },
     "execution_count": 91,
     "metadata": {},
     "output_type": "execute_result"
    }
   ],
   "source": [
    "df[\"sepal_length\"][df[\"species\"]==\"Iris-setosa\"]\n",
    "#to take separate species"
   ]
  },
  {
   "cell_type": "code",
   "execution_count": 95,
   "id": "21fd5a75-2a29-4d04-b5d7-b6b8669dc7e5",
   "metadata": {},
   "outputs": [],
   "source": [
    "from scipy import stats"
   ]
  },
  {
   "cell_type": "code",
   "execution_count": 107,
   "id": "4af3ceb7-96c7-43fc-87b5-01d3d48be654",
   "metadata": {},
   "outputs": [],
   "source": [
    "f_value , p_value = stats.f_oneway(data[\"Iris-setosa\"],data[\"Iris-versicolor\"],data[\"Iris-virginica\"])"
   ]
  },
  {
   "cell_type": "code",
   "execution_count": 115,
   "id": "fee39c48-51c8-4d47-96b0-32a813a6771d",
   "metadata": {},
   "outputs": [
    {
     "name": "stdout",
     "output_type": "stream",
     "text": [
      "H0 Reject null hypothesis, Ha accepts alternate hypothesis , no connection of the data\n"
     ]
    }
   ],
   "source": [
    "if p_value<0.075:\n",
    "     print(\"H0 Reject null hypothesis, Ha accepts alternate hypothesis , no connection of the data\")\n",
    "else:\n",
    "     print(\"H0 accept null hypothesis, Ha rejects alternate hypothesis, connection present in the data\")"
   ]
  },
  {
   "cell_type": "code",
   "execution_count": null,
   "id": "df5ce0e1-c8e0-4489-b472-b8d7b0ab231a",
   "metadata": {},
   "outputs": [],
   "source": []
  }
 ],
 "metadata": {
  "kernelspec": {
   "display_name": "Python 3 (ipykernel)",
   "language": "python",
   "name": "python3"
  },
  "language_info": {
   "codemirror_mode": {
    "name": "ipython",
    "version": 3
   },
   "file_extension": ".py",
   "mimetype": "text/x-python",
   "name": "python",
   "nbconvert_exporter": "python",
   "pygments_lexer": "ipython3",
   "version": "3.12.4"
  }
 },
 "nbformat": 4,
 "nbformat_minor": 5
}
